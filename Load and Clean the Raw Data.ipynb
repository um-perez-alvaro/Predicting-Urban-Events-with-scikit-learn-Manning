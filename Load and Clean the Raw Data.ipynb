{
 "cells": [
  {
   "cell_type": "code",
   "execution_count": 1,
   "metadata": {},
   "outputs": [],
   "source": [
    "import pandas as pd\n",
    "import numpy as np\n",
    "import matplotlib.pyplot as plt"
   ]
  },
  {
   "cell_type": "markdown",
   "metadata": {},
   "source": [
    "**Task 1:** Load the data for San-Francisco "
   ]
  },
  {
   "cell_type": "code",
   "execution_count": 19,
   "metadata": {},
   "outputs": [
    {
     "data": {
      "text/html": [
       "<div>\n",
       "<style scoped>\n",
       "    .dataframe tbody tr th:only-of-type {\n",
       "        vertical-align: middle;\n",
       "    }\n",
       "\n",
       "    .dataframe tbody tr th {\n",
       "        vertical-align: top;\n",
       "    }\n",
       "\n",
       "    .dataframe thead th {\n",
       "        text-align: right;\n",
       "    }\n",
       "</style>\n",
       "<table border=\"1\" class=\"dataframe\">\n",
       "  <thead>\n",
       "    <tr style=\"text-align: right;\">\n",
       "      <th></th>\n",
       "      <th>requestId</th>\n",
       "      <th>dataType</th>\n",
       "      <th>dataSubtype</th>\n",
       "      <th>dateTime</th>\n",
       "      <th>category</th>\n",
       "      <th>subcategory</th>\n",
       "      <th>status</th>\n",
       "      <th>address</th>\n",
       "      <th>latitude</th>\n",
       "      <th>longitude</th>\n",
       "      <th>source</th>\n",
       "      <th>extendedProperties</th>\n",
       "    </tr>\n",
       "  </thead>\n",
       "  <tbody>\n",
       "    <tr>\n",
       "      <th>0</th>\n",
       "      <td>1</td>\n",
       "      <td>Safety</td>\n",
       "      <td>911_Fire</td>\n",
       "      <td>2018-10-02 11:54:01</td>\n",
       "      <td>Potentially Life-Threatening</td>\n",
       "      <td>Medical Incident</td>\n",
       "      <td>None</td>\n",
       "      <td>ELM ST/FRANKLIN ST</td>\n",
       "      <td>37.781286</td>\n",
       "      <td>-122.422187</td>\n",
       "      <td>None</td>\n",
       "      <td></td>\n",
       "    </tr>\n",
       "    <tr>\n",
       "      <th>1</th>\n",
       "      <td>2</td>\n",
       "      <td>Safety</td>\n",
       "      <td>311_All</td>\n",
       "      <td>2018-07-08 15:00:27</td>\n",
       "      <td>Street and Sidewalk Cleaning</td>\n",
       "      <td>Bulky Items</td>\n",
       "      <td>Closed</td>\n",
       "      <td>1536 SACRAMENTO ST, SAN FRANCISCO, CA, 94109</td>\n",
       "      <td>37.791887</td>\n",
       "      <td>-122.418188</td>\n",
       "      <td>Mobile/Open311</td>\n",
       "      <td></td>\n",
       "    </tr>\n",
       "    <tr>\n",
       "      <th>2</th>\n",
       "      <td>3</td>\n",
       "      <td>Safety</td>\n",
       "      <td>311_All</td>\n",
       "      <td>2016-06-28 13:12:28</td>\n",
       "      <td>General Request - COUNTY CLERK</td>\n",
       "      <td>customer_callback</td>\n",
       "      <td>Closed</td>\n",
       "      <td>Not associated with a specific address</td>\n",
       "      <td>0.000000</td>\n",
       "      <td>0.000000</td>\n",
       "      <td>Phone</td>\n",
       "      <td></td>\n",
       "    </tr>\n",
       "    <tr>\n",
       "      <th>3</th>\n",
       "      <td>7</td>\n",
       "      <td>Safety</td>\n",
       "      <td>311_All</td>\n",
       "      <td>2017-03-03 09:34:49</td>\n",
       "      <td>Temporary Sign Request</td>\n",
       "      <td>Temporary Sign Request for Other_Event_Type</td>\n",
       "      <td>Closed</td>\n",
       "      <td>2190 NORTH POINT ST, SAN FRANCISCO, CA, 94123</td>\n",
       "      <td>37.802853</td>\n",
       "      <td>-122.443245</td>\n",
       "      <td>Phone</td>\n",
       "      <td></td>\n",
       "    </tr>\n",
       "  </tbody>\n",
       "</table>\n",
       "</div>"
      ],
      "text/plain": [
       "   requestId dataType dataSubtype             dateTime  \\\n",
       "0          1   Safety    911_Fire  2018-10-02 11:54:01   \n",
       "1          2   Safety     311_All  2018-07-08 15:00:27   \n",
       "2          3   Safety     311_All  2016-06-28 13:12:28   \n",
       "3          7   Safety     311_All  2017-03-03 09:34:49   \n",
       "\n",
       "                         category  \\\n",
       "0    Potentially Life-Threatening   \n",
       "1    Street and Sidewalk Cleaning   \n",
       "2  General Request - COUNTY CLERK   \n",
       "3          Temporary Sign Request   \n",
       "\n",
       "                                   subcategory  status  \\\n",
       "0                             Medical Incident    None   \n",
       "1                                  Bulky Items  Closed   \n",
       "2                            customer_callback  Closed   \n",
       "3  Temporary Sign Request for Other_Event_Type  Closed   \n",
       "\n",
       "                                         address   latitude   longitude  \\\n",
       "0                             ELM ST/FRANKLIN ST  37.781286 -122.422187   \n",
       "1   1536 SACRAMENTO ST, SAN FRANCISCO, CA, 94109  37.791887 -122.418188   \n",
       "2         Not associated with a specific address   0.000000    0.000000   \n",
       "3  2190 NORTH POINT ST, SAN FRANCISCO, CA, 94123  37.802853 -122.443245   \n",
       "\n",
       "           source extendedProperties  \n",
       "0            None                     \n",
       "1  Mobile/Open311                     \n",
       "2           Phone                     \n",
       "3           Phone                     "
      ]
     },
     "execution_count": 19,
     "metadata": {},
     "output_type": "execute_result"
    }
   ],
   "source": [
    "# Note to myself: I had to install pyarrow\n",
    "url = 'https://public-sym.s3-eu-west-1.amazonaws.com/LP-safety-US-cities/safety-SanFrancisco.parquet'\n",
    "data_SF = pd.read_parquet(url)\n",
    "data_SF.head(4)"
   ]
  },
  {
   "cell_type": "code",
   "execution_count": 3,
   "metadata": {},
   "outputs": [],
   "source": [
    "#  The dateTime columns needs to be converted to a datetime dtype\n",
    "data_SF.dateTime = pd.to_datetime(data_SF.dateTime)"
   ]
  },
  {
   "cell_type": "code",
   "execution_count": 4,
   "metadata": {},
   "outputs": [],
   "source": [
    "# set requestId as index\n",
    "data_SF.set_index('requestId', inplace=True)"
   ]
  },
  {
   "cell_type": "markdown",
   "metadata": {},
   "source": [
    "and look at a few examples. \n",
    "For instance,\n",
    "\n",
    "1. Choose a date randomly "
   ]
  },
  {
   "cell_type": "code",
   "execution_count": 5,
   "metadata": {},
   "outputs": [
    {
     "data": {
      "text/plain": [
       "(Timestamp('2016-01-01 00:00:43'), Timestamp('2020-07-15 23:51:08'))"
      ]
     },
     "execution_count": 5,
     "metadata": {},
     "output_type": "execute_result"
    }
   ],
   "source": [
    "# date range\n",
    "data_SF.dateTime.min(), data_SF.dateTime.max()"
   ]
  },
  {
   "cell_type": "code",
   "execution_count": 6,
   "metadata": {},
   "outputs": [],
   "source": [
    "a_date = pd.to_datetime('2017-03-16')"
   ]
  },
  {
   "cell_type": "markdown",
   "metadata": {},
   "source": [
    "and review the types of events that occurred at this date to get a better feeling for the day to day work of city services. "
   ]
  },
  {
   "cell_type": "code",
   "execution_count": 7,
   "metadata": {},
   "outputs": [
    {
     "data": {
      "text/plain": [
       "array(['Potentially Life-Threatening', 'Alarm',\n",
       "       'Street and Sidewalk Cleaning', 'MUNI Feedback',\n",
       "       'Temporary Sign Request', 'Non Life-threatening',\n",
       "       'Litter Receptacles', 'Graffiti', 'General Request - MTA',\n",
       "       'Encampments', 'Sewer Issues', 'Illegal Postings', 'SFHA Requests',\n",
       "       'Noise Report', 'Abandoned Vehicle', 'General Request - PUC',\n",
       "       'Streetlights', 'Street Defects', 'Damaged Property',\n",
       "       'Catch Basin Maintenance', 'General Request - PUBLIC WORKS',\n",
       "       'Tree Maintenance', 'Sidewalk or Curb', 'Rec and Park Requests',\n",
       "       'Blocked Street or SideWalk', 'General Request - COUNTY CLERK',\n",
       "       'Sign Repair', 'Color Curb', 'Residential Building Request',\n",
       "       'Homeless Concerns', 'General Request - BUILDING INSPECTION',\n",
       "       'General Request - CHILDREN YOUTH FAMILIES', 'Fire',\n",
       "       'General Request - DPH', 'General Request - DISTRICT ATTORNEY',\n",
       "       '311 External Request', 'General Request - OCC',\n",
       "       'General Request - 311CUSTOMERSERVICECENTER',\n",
       "       'General Request - MONS'], dtype=object)"
      ]
     },
     "execution_count": 7,
     "metadata": {},
     "output_type": "execute_result"
    }
   ],
   "source": [
    "data_SF[data_SF.dateTime.dt.date_SF==a_date].category.unique()"
   ]
  },
  {
   "cell_type": "code",
   "execution_count": 8,
   "metadata": {},
   "outputs": [
    {
     "data": {
      "text/plain": [
       "<matplotlib.axes._subplots.AxesSubplot at 0x1e3d2e30708>"
      ]
     },
     "execution_count": 8,
     "metadata": {},
     "output_type": "execute_result"
    },
    {
     "data": {
      "image/png": "[encoded data removed]",
      "text/plain": [
       "<Figure size 1080x360 with 1 Axes>"
      ]
     },
     "metadata": {
      "needs_background": "light"
     },
     "output_type": "display_data"
    }
   ],
   "source": [
    "data_SF[data_SF.dateTime.dt.date_SF==a_date].category.value_counts().plot(kind='bar', figsize=(15,5))"
   ]
  },
  {
   "cell_type": "markdown",
   "metadata": {},
   "source": [
    "2. Pick an address in the data and review its history of safety events."
   ]
  },
  {
   "cell_type": "code",
   "execution_count": 9,
   "metadata": {},
   "outputs": [],
   "source": [
    "a_street = '2100 Block of HARRISON ST'"
   ]
  },
  {
   "cell_type": "code",
   "execution_count": 10,
   "metadata": {},
   "outputs": [
    {
     "data": {
      "text/plain": [
       "<matplotlib.axes._subplots.AxesSubplot at 0x1e3e00b0488>"
      ]
     },
     "execution_count": 10,
     "metadata": {},
     "output_type": "execute_result"
    },
    {
     "data": {
      "image/png": "[encoded data removed]",
      "text/plain": [
       "<Figure size 1080x360 with 1 Axes>"
      ]
     },
     "metadata": {
      "needs_background": "light"
     },
     "output_type": "display_data"
    }
   ],
   "source": [
    "data_SF[data_SF.address==a_street].category.value_counts().plot(kind='bar', figsize=(15,5))"
   ]
  },
  {
   "cell_type": "markdown",
   "metadata": {},
   "source": [
    "**Task 2:** Identify potential data quality issues, including:"
   ]
  },
  {
   "cell_type": "markdown",
   "metadata": {},
   "source": [
    "1. missing values (or empty values for string columns)"
   ]
  },
  {
   "cell_type": "code",
   "execution_count": 11,
   "metadata": {},
   "outputs": [
    {
     "data": {
      "text/plain": [
       "dataType               0.000000\n",
       "dataSubtype            0.000000\n",
       "dateTime               0.000000\n",
       "category               0.124606\n",
       "subcategory            0.000000\n",
       "status                35.492003\n",
       "address                0.000076\n",
       "latitude               0.000000\n",
       "longitude              0.000000\n",
       "source                35.492003\n",
       "extendedProperties     0.000000\n",
       "dtype: float64"
      ]
     },
     "execution_count": 11,
     "metadata": {},
     "output_type": "execute_result"
    }
   ],
   "source": [
    "# percentage of missing values\n",
    "100*data_SF.isnull().sum()/len(data)"
   ]
  },
  {
   "cell_type": "markdown",
   "metadata": {},
   "source": [
    "2. columns that contain no information"
   ]
  },
  {
   "cell_type": "code",
   "execution_count": 12,
   "metadata": {},
   "outputs": [
    {
     "data": {
      "text/plain": [
       "100.0"
      ]
     },
     "execution_count": 12,
     "metadata": {},
     "output_type": "execute_result"
    }
   ],
   "source": [
    "100*np.sum(data_SF.extendedProperties=='')/len(data)"
   ]
  },
  {
   "cell_type": "markdown",
   "metadata": {},
   "source": [
    "3. columns that are of the wrong type (e.g. numbers encoded as strings)."
   ]
  },
  {
   "cell_type": "code",
   "execution_count": 13,
   "metadata": {},
   "outputs": [
    {
     "data": {
      "text/plain": [
       "dataType                      object\n",
       "dataSubtype                   object\n",
       "dateTime              datetime64[ns]\n",
       "category                      object\n",
       "subcategory                   object\n",
       "status                        object\n",
       "address                       object\n",
       "latitude                     float64\n",
       "longitude                    float64\n",
       "source                        object\n",
       "extendedProperties            object\n",
       "dtype: object"
      ]
     },
     "execution_count": 13,
     "metadata": {},
     "output_type": "execute_result"
    }
   ],
   "source": [
    "data_SF.dtypes"
   ]
  },
  {
   "cell_type": "markdown",
   "metadata": {},
   "source": [
    "3. rows with identical content (duplicate rows)"
   ]
  },
  {
   "cell_type": "code",
   "execution_count": 17,
   "metadata": {},
   "outputs": [
    {
     "data": {
      "text/plain": [
       "0.0"
      ]
     },
     "execution_count": 17,
     "metadata": {},
     "output_type": "execute_result"
    }
   ],
   "source": [
    "100*np.sum(data_SF.duplicated())/len(data)"
   ]
  },
  {
   "cell_type": "code",
   "execution_count": 16,
   "metadata": {},
   "outputs": [],
   "source": [
    "data_SF.drop_duplicates(inplace=True)"
   ]
  },
  {
   "cell_type": "markdown",
   "metadata": {},
   "source": [
    "4. categorical columns (that have less than a few 100 unique string values)"
   ]
  },
  {
   "cell_type": "code",
   "execution_count": 33,
   "metadata": {},
   "outputs": [
    {
     "name": "stdout",
     "output_type": "stream",
     "text": [
      "dataType\n",
      "dataSubtype\n",
      "category\n",
      "status\n",
      "source\n",
      "extendedProperties\n"
     ]
    }
   ],
   "source": [
    "for column in data_SF.columns:\n",
    "    if len(data_SF[column].unique())<=100:\n",
    "        print(column)\n",
    "        data_SF[column] = data_SF[column].astype('category')"
   ]
  },
  {
   "cell_type": "code",
   "execution_count": 34,
   "metadata": {},
   "outputs": [
    {
     "data": {
      "text/plain": [
       "requestId                int64\n",
       "dataType              category\n",
       "dataSubtype           category\n",
       "dateTime                object\n",
       "category              category\n",
       "subcategory             object\n",
       "status                category\n",
       "address                 object\n",
       "latitude               float64\n",
       "longitude              float64\n",
       "source                category\n",
       "extendedProperties    category\n",
       "dtype: object"
      ]
     },
     "execution_count": 34,
     "metadata": {},
     "output_type": "execute_result"
    }
   ],
   "source": [
    "data_SF.dtypes"
   ]
  },
  {
   "cell_type": "code",
   "execution_count": 36,
   "metadata": {},
   "outputs": [
    {
     "data": {
      "text/plain": [
       "Index                      128\n",
       "requestId             31671112\n",
       "dataType               3958977\n",
       "dataSubtype            3958985\n",
       "dateTime              31671112\n",
       "category               3962209\n",
       "subcategory           31671112\n",
       "status                 3958985\n",
       "address               31671112\n",
       "latitude              31671112\n",
       "longitude             31671112\n",
       "source                 3959273\n",
       "extendedProperties     3958977\n",
       "dtype: int64"
      ]
     },
     "execution_count": 36,
     "metadata": {},
     "output_type": "execute_result"
    }
   ],
   "source": [
    "data_SF.memory_usage()"
   ]
  },
  {
   "cell_type": "markdown",
   "metadata": {},
   "source": [
    "## Data preparation function"
   ]
  },
  {
   "cell_type": "code",
   "execution_count": 4,
   "metadata": {},
   "outputs": [
    {
     "data": {
      "text/html": [
       "<div>\n",
       "<style scoped>\n",
       "    .dataframe tbody tr th:only-of-type {\n",
       "        vertical-align: middle;\n",
       "    }\n",
       "\n",
       "    .dataframe tbody tr th {\n",
       "        vertical-align: top;\n",
       "    }\n",
       "\n",
       "    .dataframe thead th {\n",
       "        text-align: right;\n",
       "    }\n",
       "</style>\n",
       "<table border=\"1\" class=\"dataframe\">\n",
       "  <thead>\n",
       "    <tr style=\"text-align: right;\">\n",
       "      <th></th>\n",
       "      <th>requestId</th>\n",
       "      <th>dataType</th>\n",
       "      <th>dataSubtype</th>\n",
       "      <th>dateTime</th>\n",
       "      <th>category</th>\n",
       "      <th>subcategory</th>\n",
       "      <th>status</th>\n",
       "      <th>address</th>\n",
       "      <th>latitude</th>\n",
       "      <th>longitude</th>\n",
       "      <th>source</th>\n",
       "      <th>extendedProperties</th>\n",
       "    </tr>\n",
       "  </thead>\n",
       "  <tbody>\n",
       "    <tr>\n",
       "      <th>0</th>\n",
       "      <td>1</td>\n",
       "      <td>Safety</td>\n",
       "      <td>911_Fire</td>\n",
       "      <td>2018-10-02 11:54:01</td>\n",
       "      <td>Potentially Life-Threatening</td>\n",
       "      <td>Medical Incident</td>\n",
       "      <td>None</td>\n",
       "      <td>ELM ST/FRANKLIN ST</td>\n",
       "      <td>37.781286</td>\n",
       "      <td>-122.422187</td>\n",
       "      <td>None</td>\n",
       "      <td></td>\n",
       "    </tr>\n",
       "  </tbody>\n",
       "</table>\n",
       "</div>"
      ],
      "text/plain": [
       "   requestId dataType dataSubtype             dateTime  \\\n",
       "0          1   Safety    911_Fire  2018-10-02 11:54:01   \n",
       "\n",
       "                       category       subcategory status             address  \\\n",
       "0  Potentially Life-Threatening  Medical Incident   None  ELM ST/FRANKLIN ST   \n",
       "\n",
       "    latitude   longitude source extendedProperties  \n",
       "0  37.781286 -122.422187   None                     "
      ]
     },
     "execution_count": 4,
     "metadata": {},
     "output_type": "execute_result"
    }
   ],
   "source": [
    "# Note to myself: I had to install pyarrow\n",
    "url = 'https://public-sym.s3-eu-west-1.amazonaws.com/LP-safety-US-cities/safety-SanFrancisco.parquet'\n",
    "data_SF = pd.read_parquet(url)\n",
    "data_SF.head(1)"
   ]
  },
  {
   "cell_type": "code",
   "execution_count": null,
   "metadata": {},
   "outputs": [],
   "source": [
    "url = 'https://public-sym.s3-eu-west-1.amazonaws.com/LP-safety-US-cities/safety-Nyc.parquet'\n",
    "data_NYC = pd.read_parquet(url)\n",
    "data_NYC.head(1)"
   ]
  },
  {
   "cell_type": "code",
   "execution_count": null,
   "metadata": {},
   "outputs": [],
   "source": [
    "def data_prep(df):\n",
    "    #  The dateTime columns needs to be converted to a datetime dtype\n",
    "    df.dateTime = pd.to_datetime(df.dateTime)\n",
    "    \n",
    "    # set requestId as index\n",
    "    df.set_index('requestId', inplace=True)\n",
    "    \n",
    "    # drop empty columns\n",
    "    df.drop('extendedProperties', axis=1, inplace=True)\n",
    "\n",
    "    # drop duplicates\n",
    "    df.drop_duplicates(inplace=True)\n",
    "    \n",
    "    # categorical columns\n",
    "    for column in data_SF.columns:\n",
    "        if len(df[column].unique())<=100:\n",
    "            df[column] = df[column].astype('category')"
   ]
  },
  {
   "cell_type": "code",
   "execution_count": null,
   "metadata": {},
   "outputs": [],
   "source": [
    "data_prep(data_SF)\n",
    "data_SF.head(1)"
   ]
  },
  {
   "cell_type": "code",
   "execution_count": null,
   "metadata": {},
   "outputs": [],
   "source": [
    "data_prep(data_NYC)\n",
    "data_NYC.head(1)"
   ]
  },
  {
   "cell_type": "code",
   "execution_count": null,
   "metadata": {},
   "outputs": [],
   "source": [
    "data_SF.to_parquet('safety-SanFrancisco-1.parquet')\n",
    "data_NYC.to_parquet('safety-Nyc-1.parquet')"
   ]
  },
  {
   "cell_type": "code",
   "execution_count": null,
   "metadata": {},
   "outputs": [],
   "source": []
  }
 ],
 "metadata": {
  "kernelspec": {
   "display_name": "Python 3",
   "language": "python",
   "name": "python3"
  },
  "language_info": {
   "codemirror_mode": {
    "name": "ipython",
    "version": 3
   },
   "file_extension": ".py",
   "mimetype": "text/x-python",
   "name": "python",
   "nbconvert_exporter": "python",
   "pygments_lexer": "ipython3",
   "version": "3.7.6"
  }
 },
 "nbformat": 4,
 "nbformat_minor": 4
}
